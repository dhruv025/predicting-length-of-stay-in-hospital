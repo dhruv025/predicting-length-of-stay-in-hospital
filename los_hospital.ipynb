{
  "nbformat": 4,
  "nbformat_minor": 0,
  "metadata": {
    "colab": {
      "name": "los_hospital.ipynb",
      "provenance": [],
      "collapsed_sections": [],
      "authorship_tag": "ABX9TyMJBBfHZTqnaRP1z4EMk0PZ",
      "include_colab_link": true
    },
    "kernelspec": {
      "name": "python3",
      "display_name": "Python 3"
    }
  },
  "cells": [
    {
      "cell_type": "markdown",
      "metadata": {
        "id": "view-in-github",
        "colab_type": "text"
      },
      "source": [
        "<a href=\"https://colab.research.google.com/github/dhruv025/predicting_length_of_stay_in_hospital/blob/master/los_hospital.ipynb\" target=\"_parent\"><img src=\"https://colab.research.google.com/assets/colab-badge.svg\" alt=\"Open In Colab\"/></a>"
      ]
    },
    {
      "cell_type": "code",
      "metadata": {
        "id": "n5D2HTJb-VUY",
        "colab_type": "code",
        "colab": {}
      },
      "source": [
        "from google.colab import drive"
      ],
      "execution_count": 0,
      "outputs": []
    },
    {
      "cell_type": "code",
      "metadata": {
        "id": "DOdEFEe9_KIF",
        "colab_type": "code",
        "outputId": "9fb7f22e-3bb0-4ab7-a74b-ee0362beb1c7",
        "colab": {
          "base_uri": "https://localhost:8080/",
          "height": 34
        }
      },
      "source": [
        "drive.mount('/content/drive')"
      ],
      "execution_count": 2,
      "outputs": [
        {
          "output_type": "stream",
          "text": [
            "Drive already mounted at /content/drive; to attempt to forcibly remount, call drive.mount(\"/content/drive\", force_remount=True).\n"
          ],
          "name": "stdout"
        }
      ]
    },
    {
      "cell_type": "code",
      "metadata": {
        "id": "0JOP3cYp_Vx8",
        "colab_type": "code",
        "colab": {}
      },
      "source": [
        "#pandas library is used to import dataset\n",
        "import pandas as pd"
      ],
      "execution_count": 0,
      "outputs": []
    },
    {
      "cell_type": "code",
      "metadata": {
        "id": "atBuHjXxDNIU",
        "colab_type": "code",
        "colab": {}
      },
      "source": [
        "import numpy as np"
      ],
      "execution_count": 0,
      "outputs": []
    },
    {
      "cell_type": "code",
      "metadata": {
        "id": "FZGv37QQ_7qx",
        "colab_type": "code",
        "colab": {}
      },
      "source": [
        "#importing the dataset using pandas library\n",
        "df = pd.read_csv('drive/My Drive/mimic3d.csv')"
      ],
      "execution_count": 0,
      "outputs": []
    },
    {
      "cell_type": "code",
      "metadata": {
        "id": "PH6tDUc3ALNt",
        "colab_type": "code",
        "outputId": "c1fc0003-98db-46ca-cd43-7e2f06343e9e",
        "colab": {
          "base_uri": "https://localhost:8080/",
          "height": 34
        }
      },
      "source": [
        "#no. of rows and columns\n",
        "df.shape"
      ],
      "execution_count": 6,
      "outputs": [
        {
          "output_type": "execute_result",
          "data": {
            "text/plain": [
              "(58976, 28)"
            ]
          },
          "metadata": {
            "tags": []
          },
          "execution_count": 6
        }
      ]
    },
    {
      "cell_type": "code",
      "metadata": {
        "id": "pASyHjKOBZgC",
        "colab_type": "code",
        "outputId": "bb64885e-9928-44f4-89f9-099a5205ea6e",
        "colab": {
          "base_uri": "https://localhost:8080/",
          "height": 313
        }
      },
      "source": [
        "#this head method returns top n row of dataframe(by default 5)\n",
        "df.head()"
      ],
      "execution_count": 7,
      "outputs": [
        {
          "output_type": "execute_result",
          "data": {
            "text/html": [
              "<div>\n",
              "<style scoped>\n",
              "    .dataframe tbody tr th:only-of-type {\n",
              "        vertical-align: middle;\n",
              "    }\n",
              "\n",
              "    .dataframe tbody tr th {\n",
              "        vertical-align: top;\n",
              "    }\n",
              "\n",
              "    .dataframe thead th {\n",
              "        text-align: right;\n",
              "    }\n",
              "</style>\n",
              "<table border=\"1\" class=\"dataframe\">\n",
              "  <thead>\n",
              "    <tr style=\"text-align: right;\">\n",
              "      <th></th>\n",
              "      <th>hadm_id</th>\n",
              "      <th>gender</th>\n",
              "      <th>age</th>\n",
              "      <th>LOSdays</th>\n",
              "      <th>admit_type</th>\n",
              "      <th>admit_location</th>\n",
              "      <th>AdmitDiagnosis</th>\n",
              "      <th>insurance</th>\n",
              "      <th>religion</th>\n",
              "      <th>marital_status</th>\n",
              "      <th>ethnicity</th>\n",
              "      <th>NumCallouts</th>\n",
              "      <th>NumDiagnosis</th>\n",
              "      <th>NumProcs</th>\n",
              "      <th>AdmitProcedure</th>\n",
              "      <th>NumCPTevents</th>\n",
              "      <th>NumInput</th>\n",
              "      <th>NumLabs</th>\n",
              "      <th>NumMicroLabs</th>\n",
              "      <th>NumNotes</th>\n",
              "      <th>NumOutput</th>\n",
              "      <th>NumRx</th>\n",
              "      <th>NumProcEvents</th>\n",
              "      <th>NumTransfers</th>\n",
              "      <th>NumChartEvents</th>\n",
              "      <th>ExpiredHospital</th>\n",
              "      <th>TotalNumInteract</th>\n",
              "      <th>LOSgroupNum</th>\n",
              "    </tr>\n",
              "  </thead>\n",
              "  <tbody>\n",
              "    <tr>\n",
              "      <th>0</th>\n",
              "      <td>100001</td>\n",
              "      <td>F</td>\n",
              "      <td>35</td>\n",
              "      <td>6.17</td>\n",
              "      <td>EMERGENCY</td>\n",
              "      <td>CLINIC REFERRAL/PREMATURE</td>\n",
              "      <td>DIABETIC KETOACIDOSIS</td>\n",
              "      <td>Private</td>\n",
              "      <td>PROTESTANT QUAKER</td>\n",
              "      <td>DIVORCED</td>\n",
              "      <td>WHITE</td>\n",
              "      <td>0.16</td>\n",
              "      <td>2.59</td>\n",
              "      <td>0.00</td>\n",
              "      <td>na</td>\n",
              "      <td>1.30</td>\n",
              "      <td>25.12</td>\n",
              "      <td>43.44</td>\n",
              "      <td>0.65</td>\n",
              "      <td>0.05</td>\n",
              "      <td>5.19</td>\n",
              "      <td>14.91</td>\n",
              "      <td>1.13</td>\n",
              "      <td>0.65</td>\n",
              "      <td>398.70</td>\n",
              "      <td>0</td>\n",
              "      <td>493.89</td>\n",
              "      <td>1</td>\n",
              "    </tr>\n",
              "    <tr>\n",
              "      <th>1</th>\n",
              "      <td>100003</td>\n",
              "      <td>M</td>\n",
              "      <td>59</td>\n",
              "      <td>4.04</td>\n",
              "      <td>EMERGENCY</td>\n",
              "      <td>EMERGENCY ROOM ADMIT</td>\n",
              "      <td>UPPER GI BLEED</td>\n",
              "      <td>Private</td>\n",
              "      <td>NOT SPECIFIED</td>\n",
              "      <td>SINGLE</td>\n",
              "      <td>WHITE</td>\n",
              "      <td>0.25</td>\n",
              "      <td>2.23</td>\n",
              "      <td>0.99</td>\n",
              "      <td>Endosc control gast hem</td>\n",
              "      <td>1.98</td>\n",
              "      <td>13.61</td>\n",
              "      <td>55.94</td>\n",
              "      <td>1.24</td>\n",
              "      <td>1.59</td>\n",
              "      <td>5.45</td>\n",
              "      <td>7.18</td>\n",
              "      <td>0.99</td>\n",
              "      <td>1.24</td>\n",
              "      <td>373.02</td>\n",
              "      <td>0</td>\n",
              "      <td>465.71</td>\n",
              "      <td>1</td>\n",
              "    </tr>\n",
              "    <tr>\n",
              "      <th>2</th>\n",
              "      <td>100006</td>\n",
              "      <td>F</td>\n",
              "      <td>48</td>\n",
              "      <td>12.04</td>\n",
              "      <td>EMERGENCY</td>\n",
              "      <td>EMERGENCY ROOM ADMIT</td>\n",
              "      <td>COPD FLARE</td>\n",
              "      <td>Private</td>\n",
              "      <td>NOT SPECIFIED</td>\n",
              "      <td>SINGLE</td>\n",
              "      <td>BLACK/AFRICAN AMERICAN</td>\n",
              "      <td>0.00</td>\n",
              "      <td>0.75</td>\n",
              "      <td>0.17</td>\n",
              "      <td>Non-invasive mech vent</td>\n",
              "      <td>0.83</td>\n",
              "      <td>11.46</td>\n",
              "      <td>33.39</td>\n",
              "      <td>0.33</td>\n",
              "      <td>0.15</td>\n",
              "      <td>4.15</td>\n",
              "      <td>6.23</td>\n",
              "      <td>0.00</td>\n",
              "      <td>0.33</td>\n",
              "      <td>286.21</td>\n",
              "      <td>0</td>\n",
              "      <td>344.00</td>\n",
              "      <td>3</td>\n",
              "    </tr>\n",
              "    <tr>\n",
              "      <th>3</th>\n",
              "      <td>100007</td>\n",
              "      <td>F</td>\n",
              "      <td>73</td>\n",
              "      <td>7.29</td>\n",
              "      <td>EMERGENCY</td>\n",
              "      <td>EMERGENCY ROOM ADMIT</td>\n",
              "      <td>BOWEL OBSTRUCTION</td>\n",
              "      <td>Private</td>\n",
              "      <td>JEWISH</td>\n",
              "      <td>MARRIED</td>\n",
              "      <td>WHITE</td>\n",
              "      <td>0.41</td>\n",
              "      <td>0.69</td>\n",
              "      <td>0.27</td>\n",
              "      <td>Part sm bowel resect NEC</td>\n",
              "      <td>0.69</td>\n",
              "      <td>20.30</td>\n",
              "      <td>32.24</td>\n",
              "      <td>0.69</td>\n",
              "      <td>0.17</td>\n",
              "      <td>9.05</td>\n",
              "      <td>11.52</td>\n",
              "      <td>0.00</td>\n",
              "      <td>0.96</td>\n",
              "      <td>526.06</td>\n",
              "      <td>0</td>\n",
              "      <td>603.05</td>\n",
              "      <td>1</td>\n",
              "    </tr>\n",
              "    <tr>\n",
              "      <th>4</th>\n",
              "      <td>100009</td>\n",
              "      <td>M</td>\n",
              "      <td>60</td>\n",
              "      <td>4.88</td>\n",
              "      <td>EMERGENCY</td>\n",
              "      <td>TRANSFER FROM HOSP/EXTRAM</td>\n",
              "      <td>CORONARY ARTERY DISEASE</td>\n",
              "      <td>Private</td>\n",
              "      <td>CATHOLIC</td>\n",
              "      <td>MARRIED</td>\n",
              "      <td>WHITE</td>\n",
              "      <td>0.00</td>\n",
              "      <td>3.69</td>\n",
              "      <td>0.82</td>\n",
              "      <td>Aortocor bypas-3 cor art</td>\n",
              "      <td>2.25</td>\n",
              "      <td>20.49</td>\n",
              "      <td>50.61</td>\n",
              "      <td>0.61</td>\n",
              "      <td>0.34</td>\n",
              "      <td>16.19</td>\n",
              "      <td>25.00</td>\n",
              "      <td>2.87</td>\n",
              "      <td>2.05</td>\n",
              "      <td>554.92</td>\n",
              "      <td>0</td>\n",
              "      <td>679.84</td>\n",
              "      <td>1</td>\n",
              "    </tr>\n",
              "  </tbody>\n",
              "</table>\n",
              "</div>"
            ],
            "text/plain": [
              "   hadm_id gender  age  ...  ExpiredHospital TotalNumInteract LOSgroupNum\n",
              "0   100001      F   35  ...                0           493.89           1\n",
              "1   100003      M   59  ...                0           465.71           1\n",
              "2   100006      F   48  ...                0           344.00           3\n",
              "3   100007      F   73  ...                0           603.05           1\n",
              "4   100009      M   60  ...                0           679.84           1\n",
              "\n",
              "[5 rows x 28 columns]"
            ]
          },
          "metadata": {
            "tags": []
          },
          "execution_count": 7
        }
      ]
    },
    {
      "cell_type": "code",
      "metadata": {
        "id": "E1d9trWTCKPQ",
        "colab_type": "code",
        "colab": {}
      },
      "source": [
        "#drop method is used to remove a particular column\n",
        "df = df.drop('hadm_id',axis = 1)"
      ],
      "execution_count": 0,
      "outputs": []
    },
    {
      "cell_type": "code",
      "metadata": {
        "id": "oKLiPQx9CtRe",
        "colab_type": "code",
        "outputId": "8f52d340-d18d-43fc-b24e-ac8f03c1a10a",
        "colab": {
          "base_uri": "https://localhost:8080/",
          "height": 313
        }
      },
      "source": [
        "#updated dataset\n",
        "df.head()"
      ],
      "execution_count": 9,
      "outputs": [
        {
          "output_type": "execute_result",
          "data": {
            "text/html": [
              "<div>\n",
              "<style scoped>\n",
              "    .dataframe tbody tr th:only-of-type {\n",
              "        vertical-align: middle;\n",
              "    }\n",
              "\n",
              "    .dataframe tbody tr th {\n",
              "        vertical-align: top;\n",
              "    }\n",
              "\n",
              "    .dataframe thead th {\n",
              "        text-align: right;\n",
              "    }\n",
              "</style>\n",
              "<table border=\"1\" class=\"dataframe\">\n",
              "  <thead>\n",
              "    <tr style=\"text-align: right;\">\n",
              "      <th></th>\n",
              "      <th>gender</th>\n",
              "      <th>age</th>\n",
              "      <th>LOSdays</th>\n",
              "      <th>admit_type</th>\n",
              "      <th>admit_location</th>\n",
              "      <th>AdmitDiagnosis</th>\n",
              "      <th>insurance</th>\n",
              "      <th>religion</th>\n",
              "      <th>marital_status</th>\n",
              "      <th>ethnicity</th>\n",
              "      <th>NumCallouts</th>\n",
              "      <th>NumDiagnosis</th>\n",
              "      <th>NumProcs</th>\n",
              "      <th>AdmitProcedure</th>\n",
              "      <th>NumCPTevents</th>\n",
              "      <th>NumInput</th>\n",
              "      <th>NumLabs</th>\n",
              "      <th>NumMicroLabs</th>\n",
              "      <th>NumNotes</th>\n",
              "      <th>NumOutput</th>\n",
              "      <th>NumRx</th>\n",
              "      <th>NumProcEvents</th>\n",
              "      <th>NumTransfers</th>\n",
              "      <th>NumChartEvents</th>\n",
              "      <th>ExpiredHospital</th>\n",
              "      <th>TotalNumInteract</th>\n",
              "      <th>LOSgroupNum</th>\n",
              "    </tr>\n",
              "  </thead>\n",
              "  <tbody>\n",
              "    <tr>\n",
              "      <th>0</th>\n",
              "      <td>F</td>\n",
              "      <td>35</td>\n",
              "      <td>6.17</td>\n",
              "      <td>EMERGENCY</td>\n",
              "      <td>CLINIC REFERRAL/PREMATURE</td>\n",
              "      <td>DIABETIC KETOACIDOSIS</td>\n",
              "      <td>Private</td>\n",
              "      <td>PROTESTANT QUAKER</td>\n",
              "      <td>DIVORCED</td>\n",
              "      <td>WHITE</td>\n",
              "      <td>0.16</td>\n",
              "      <td>2.59</td>\n",
              "      <td>0.00</td>\n",
              "      <td>na</td>\n",
              "      <td>1.30</td>\n",
              "      <td>25.12</td>\n",
              "      <td>43.44</td>\n",
              "      <td>0.65</td>\n",
              "      <td>0.05</td>\n",
              "      <td>5.19</td>\n",
              "      <td>14.91</td>\n",
              "      <td>1.13</td>\n",
              "      <td>0.65</td>\n",
              "      <td>398.70</td>\n",
              "      <td>0</td>\n",
              "      <td>493.89</td>\n",
              "      <td>1</td>\n",
              "    </tr>\n",
              "    <tr>\n",
              "      <th>1</th>\n",
              "      <td>M</td>\n",
              "      <td>59</td>\n",
              "      <td>4.04</td>\n",
              "      <td>EMERGENCY</td>\n",
              "      <td>EMERGENCY ROOM ADMIT</td>\n",
              "      <td>UPPER GI BLEED</td>\n",
              "      <td>Private</td>\n",
              "      <td>NOT SPECIFIED</td>\n",
              "      <td>SINGLE</td>\n",
              "      <td>WHITE</td>\n",
              "      <td>0.25</td>\n",
              "      <td>2.23</td>\n",
              "      <td>0.99</td>\n",
              "      <td>Endosc control gast hem</td>\n",
              "      <td>1.98</td>\n",
              "      <td>13.61</td>\n",
              "      <td>55.94</td>\n",
              "      <td>1.24</td>\n",
              "      <td>1.59</td>\n",
              "      <td>5.45</td>\n",
              "      <td>7.18</td>\n",
              "      <td>0.99</td>\n",
              "      <td>1.24</td>\n",
              "      <td>373.02</td>\n",
              "      <td>0</td>\n",
              "      <td>465.71</td>\n",
              "      <td>1</td>\n",
              "    </tr>\n",
              "    <tr>\n",
              "      <th>2</th>\n",
              "      <td>F</td>\n",
              "      <td>48</td>\n",
              "      <td>12.04</td>\n",
              "      <td>EMERGENCY</td>\n",
              "      <td>EMERGENCY ROOM ADMIT</td>\n",
              "      <td>COPD FLARE</td>\n",
              "      <td>Private</td>\n",
              "      <td>NOT SPECIFIED</td>\n",
              "      <td>SINGLE</td>\n",
              "      <td>BLACK/AFRICAN AMERICAN</td>\n",
              "      <td>0.00</td>\n",
              "      <td>0.75</td>\n",
              "      <td>0.17</td>\n",
              "      <td>Non-invasive mech vent</td>\n",
              "      <td>0.83</td>\n",
              "      <td>11.46</td>\n",
              "      <td>33.39</td>\n",
              "      <td>0.33</td>\n",
              "      <td>0.15</td>\n",
              "      <td>4.15</td>\n",
              "      <td>6.23</td>\n",
              "      <td>0.00</td>\n",
              "      <td>0.33</td>\n",
              "      <td>286.21</td>\n",
              "      <td>0</td>\n",
              "      <td>344.00</td>\n",
              "      <td>3</td>\n",
              "    </tr>\n",
              "    <tr>\n",
              "      <th>3</th>\n",
              "      <td>F</td>\n",
              "      <td>73</td>\n",
              "      <td>7.29</td>\n",
              "      <td>EMERGENCY</td>\n",
              "      <td>EMERGENCY ROOM ADMIT</td>\n",
              "      <td>BOWEL OBSTRUCTION</td>\n",
              "      <td>Private</td>\n",
              "      <td>JEWISH</td>\n",
              "      <td>MARRIED</td>\n",
              "      <td>WHITE</td>\n",
              "      <td>0.41</td>\n",
              "      <td>0.69</td>\n",
              "      <td>0.27</td>\n",
              "      <td>Part sm bowel resect NEC</td>\n",
              "      <td>0.69</td>\n",
              "      <td>20.30</td>\n",
              "      <td>32.24</td>\n",
              "      <td>0.69</td>\n",
              "      <td>0.17</td>\n",
              "      <td>9.05</td>\n",
              "      <td>11.52</td>\n",
              "      <td>0.00</td>\n",
              "      <td>0.96</td>\n",
              "      <td>526.06</td>\n",
              "      <td>0</td>\n",
              "      <td>603.05</td>\n",
              "      <td>1</td>\n",
              "    </tr>\n",
              "    <tr>\n",
              "      <th>4</th>\n",
              "      <td>M</td>\n",
              "      <td>60</td>\n",
              "      <td>4.88</td>\n",
              "      <td>EMERGENCY</td>\n",
              "      <td>TRANSFER FROM HOSP/EXTRAM</td>\n",
              "      <td>CORONARY ARTERY DISEASE</td>\n",
              "      <td>Private</td>\n",
              "      <td>CATHOLIC</td>\n",
              "      <td>MARRIED</td>\n",
              "      <td>WHITE</td>\n",
              "      <td>0.00</td>\n",
              "      <td>3.69</td>\n",
              "      <td>0.82</td>\n",
              "      <td>Aortocor bypas-3 cor art</td>\n",
              "      <td>2.25</td>\n",
              "      <td>20.49</td>\n",
              "      <td>50.61</td>\n",
              "      <td>0.61</td>\n",
              "      <td>0.34</td>\n",
              "      <td>16.19</td>\n",
              "      <td>25.00</td>\n",
              "      <td>2.87</td>\n",
              "      <td>2.05</td>\n",
              "      <td>554.92</td>\n",
              "      <td>0</td>\n",
              "      <td>679.84</td>\n",
              "      <td>1</td>\n",
              "    </tr>\n",
              "  </tbody>\n",
              "</table>\n",
              "</div>"
            ],
            "text/plain": [
              "  gender  age  LOSdays  ... ExpiredHospital TotalNumInteract LOSgroupNum\n",
              "0      F   35     6.17  ...               0           493.89           1\n",
              "1      M   59     4.04  ...               0           465.71           1\n",
              "2      F   48    12.04  ...               0           344.00           3\n",
              "3      F   73     7.29  ...               0           603.05           1\n",
              "4      M   60     4.88  ...               0           679.84           1\n",
              "\n",
              "[5 rows x 27 columns]"
            ]
          },
          "metadata": {
            "tags": []
          },
          "execution_count": 9
        }
      ]
    },
    {
      "cell_type": "code",
      "metadata": {
        "id": "BQlBtGB6C62y",
        "colab_type": "code",
        "outputId": "36a15926-8d82-49f1-d9df-51371596f671",
        "colab": {
          "base_uri": "https://localhost:8080/",
          "height": 34
        }
      },
      "source": [
        "#no. of row and colums after updation\n",
        "df.shape"
      ],
      "execution_count": 10,
      "outputs": [
        {
          "output_type": "execute_result",
          "data": {
            "text/plain": [
              "(58976, 27)"
            ]
          },
          "metadata": {
            "tags": []
          },
          "execution_count": 10
        }
      ]
    },
    {
      "cell_type": "code",
      "metadata": {
        "id": "XnGRFvu2DI-H",
        "colab_type": "code",
        "outputId": "962d40f1-eda0-49d2-c1f5-31036164668c",
        "colab": {
          "base_uri": "https://localhost:8080/",
          "height": 320
        }
      },
      "source": [
        "#describe method is used to view some statistical details\n",
        "df.describe()"
      ],
      "execution_count": 11,
      "outputs": [
        {
          "output_type": "execute_result",
          "data": {
            "text/html": [
              "<div>\n",
              "<style scoped>\n",
              "    .dataframe tbody tr th:only-of-type {\n",
              "        vertical-align: middle;\n",
              "    }\n",
              "\n",
              "    .dataframe tbody tr th {\n",
              "        vertical-align: top;\n",
              "    }\n",
              "\n",
              "    .dataframe thead th {\n",
              "        text-align: right;\n",
              "    }\n",
              "</style>\n",
              "<table border=\"1\" class=\"dataframe\">\n",
              "  <thead>\n",
              "    <tr style=\"text-align: right;\">\n",
              "      <th></th>\n",
              "      <th>age</th>\n",
              "      <th>LOSdays</th>\n",
              "      <th>NumCallouts</th>\n",
              "      <th>NumDiagnosis</th>\n",
              "      <th>NumProcs</th>\n",
              "      <th>NumCPTevents</th>\n",
              "      <th>NumInput</th>\n",
              "      <th>NumLabs</th>\n",
              "      <th>NumMicroLabs</th>\n",
              "      <th>NumNotes</th>\n",
              "      <th>NumOutput</th>\n",
              "      <th>NumRx</th>\n",
              "      <th>NumProcEvents</th>\n",
              "      <th>NumTransfers</th>\n",
              "      <th>NumChartEvents</th>\n",
              "      <th>ExpiredHospital</th>\n",
              "      <th>TotalNumInteract</th>\n",
              "      <th>LOSgroupNum</th>\n",
              "    </tr>\n",
              "  </thead>\n",
              "  <tbody>\n",
              "    <tr>\n",
              "      <th>count</th>\n",
              "      <td>58976.000000</td>\n",
              "      <td>58976.000000</td>\n",
              "      <td>58976.000000</td>\n",
              "      <td>58976.00000</td>\n",
              "      <td>58976.000000</td>\n",
              "      <td>58976.000000</td>\n",
              "      <td>58976.000000</td>\n",
              "      <td>58976.000000</td>\n",
              "      <td>58976.000000</td>\n",
              "      <td>58976.000000</td>\n",
              "      <td>58976.000000</td>\n",
              "      <td>58976.000000</td>\n",
              "      <td>58976.000000</td>\n",
              "      <td>58976.000000</td>\n",
              "      <td>58976.000000</td>\n",
              "      <td>58976.000000</td>\n",
              "      <td>58976.000000</td>\n",
              "      <td>58976.000000</td>\n",
              "    </tr>\n",
              "    <tr>\n",
              "      <th>mean</th>\n",
              "      <td>53.005884</td>\n",
              "      <td>10.114955</td>\n",
              "      <td>0.099374</td>\n",
              "      <td>2.67596</td>\n",
              "      <td>0.785599</td>\n",
              "      <td>1.074118</td>\n",
              "      <td>30.379017</td>\n",
              "      <td>46.421124</td>\n",
              "      <td>1.219913</td>\n",
              "      <td>6.464789</td>\n",
              "      <td>7.111594</td>\n",
              "      <td>9.593702</td>\n",
              "      <td>0.691903</td>\n",
              "      <td>1.093313</td>\n",
              "      <td>528.505172</td>\n",
              "      <td>0.099261</td>\n",
              "      <td>636.115579</td>\n",
              "      <td>1.360248</td>\n",
              "    </tr>\n",
              "    <tr>\n",
              "      <th>std</th>\n",
              "      <td>26.028120</td>\n",
              "      <td>12.456231</td>\n",
              "      <td>0.163437</td>\n",
              "      <td>8.26559</td>\n",
              "      <td>3.558090</td>\n",
              "      <td>2.027148</td>\n",
              "      <td>62.430163</td>\n",
              "      <td>76.061561</td>\n",
              "      <td>4.236693</td>\n",
              "      <td>106.709903</td>\n",
              "      <td>7.551822</td>\n",
              "      <td>12.601338</td>\n",
              "      <td>2.117615</td>\n",
              "      <td>3.169441</td>\n",
              "      <td>640.250063</td>\n",
              "      <td>0.299014</td>\n",
              "      <td>783.938087</td>\n",
              "      <td>1.130337</td>\n",
              "    </tr>\n",
              "    <tr>\n",
              "      <th>min</th>\n",
              "      <td>0.000000</td>\n",
              "      <td>0.000000</td>\n",
              "      <td>0.000000</td>\n",
              "      <td>0.00000</td>\n",
              "      <td>0.000000</td>\n",
              "      <td>0.000000</td>\n",
              "      <td>0.000000</td>\n",
              "      <td>0.000000</td>\n",
              "      <td>0.000000</td>\n",
              "      <td>0.000000</td>\n",
              "      <td>0.000000</td>\n",
              "      <td>0.000000</td>\n",
              "      <td>0.000000</td>\n",
              "      <td>0.000000</td>\n",
              "      <td>0.000000</td>\n",
              "      <td>0.000000</td>\n",
              "      <td>0.000000</td>\n",
              "      <td>0.000000</td>\n",
              "    </tr>\n",
              "    <tr>\n",
              "      <th>25%</th>\n",
              "      <td>43.000000</td>\n",
              "      <td>3.710000</td>\n",
              "      <td>0.000000</td>\n",
              "      <td>0.82000</td>\n",
              "      <td>0.210000</td>\n",
              "      <td>0.000000</td>\n",
              "      <td>4.850000</td>\n",
              "      <td>26.980000</td>\n",
              "      <td>0.160000</td>\n",
              "      <td>0.140000</td>\n",
              "      <td>1.750000</td>\n",
              "      <td>4.330000</td>\n",
              "      <td>0.000000</td>\n",
              "      <td>0.380000</td>\n",
              "      <td>207.410000</td>\n",
              "      <td>0.000000</td>\n",
              "      <td>267.407500</td>\n",
              "      <td>0.000000</td>\n",
              "    </tr>\n",
              "    <tr>\n",
              "      <th>50%</th>\n",
              "      <td>59.000000</td>\n",
              "      <td>6.460000</td>\n",
              "      <td>0.000000</td>\n",
              "      <td>1.41000</td>\n",
              "      <td>0.420000</td>\n",
              "      <td>0.970000</td>\n",
              "      <td>13.990000</td>\n",
              "      <td>38.520000</td>\n",
              "      <td>0.510000</td>\n",
              "      <td>0.330000</td>\n",
              "      <td>5.310000</td>\n",
              "      <td>8.370000</td>\n",
              "      <td>0.000000</td>\n",
              "      <td>0.650000</td>\n",
              "      <td>417.875000</td>\n",
              "      <td>0.000000</td>\n",
              "      <td>497.335000</td>\n",
              "      <td>1.000000</td>\n",
              "    </tr>\n",
              "    <tr>\n",
              "      <th>75%</th>\n",
              "      <td>73.000000</td>\n",
              "      <td>11.790000</td>\n",
              "      <td>0.160000</td>\n",
              "      <td>2.40000</td>\n",
              "      <td>0.710000</td>\n",
              "      <td>1.560000</td>\n",
              "      <td>34.360000</td>\n",
              "      <td>50.860000</td>\n",
              "      <td>1.350000</td>\n",
              "      <td>0.770000</td>\n",
              "      <td>10.490000</td>\n",
              "      <td>12.270000</td>\n",
              "      <td>0.880000</td>\n",
              "      <td>1.060000</td>\n",
              "      <td>700.302500</td>\n",
              "      <td>0.000000</td>\n",
              "      <td>811.382500</td>\n",
              "      <td>2.000000</td>\n",
              "    </tr>\n",
              "    <tr>\n",
              "      <th>max</th>\n",
              "      <td>89.000000</td>\n",
              "      <td>294.630000</td>\n",
              "      <td>4.760000</td>\n",
              "      <td>450.00000</td>\n",
              "      <td>275.000000</td>\n",
              "      <td>225.000000</td>\n",
              "      <td>6825.000000</td>\n",
              "      <td>5175.000000</td>\n",
              "      <td>375.000000</td>\n",
              "      <td>7500.000000</td>\n",
              "      <td>375.000000</td>\n",
              "      <td>750.000000</td>\n",
              "      <td>100.000000</td>\n",
              "      <td>125.000000</td>\n",
              "      <td>49325.000000</td>\n",
              "      <td>1.000000</td>\n",
              "      <td>68600.000000</td>\n",
              "      <td>3.000000</td>\n",
              "    </tr>\n",
              "  </tbody>\n",
              "</table>\n",
              "</div>"
            ],
            "text/plain": [
              "                age       LOSdays  ...  TotalNumInteract   LOSgroupNum\n",
              "count  58976.000000  58976.000000  ...      58976.000000  58976.000000\n",
              "mean      53.005884     10.114955  ...        636.115579      1.360248\n",
              "std       26.028120     12.456231  ...        783.938087      1.130337\n",
              "min        0.000000      0.000000  ...          0.000000      0.000000\n",
              "25%       43.000000      3.710000  ...        267.407500      0.000000\n",
              "50%       59.000000      6.460000  ...        497.335000      1.000000\n",
              "75%       73.000000     11.790000  ...        811.382500      2.000000\n",
              "max       89.000000    294.630000  ...      68600.000000      3.000000\n",
              "\n",
              "[8 rows x 18 columns]"
            ]
          },
          "metadata": {
            "tags": []
          },
          "execution_count": 11
        }
      ]
    },
    {
      "cell_type": "code",
      "metadata": {
        "id": "09s4qpKdFOAA",
        "colab_type": "code",
        "colab": {}
      },
      "source": [
        "#y_train is having dependent variable\n",
        "y_train = df['LOSgroupNum']"
      ],
      "execution_count": 0,
      "outputs": []
    },
    {
      "cell_type": "code",
      "metadata": {
        "id": "LDTRASixKhOc",
        "colab_type": "code",
        "outputId": "dd9bb953-61ee-4d56-fd07-c6d637a85991",
        "colab": {
          "base_uri": "https://localhost:8080/",
          "height": 225
        }
      },
      "source": [
        "y_train"
      ],
      "execution_count": 13,
      "outputs": [
        {
          "output_type": "execute_result",
          "data": {
            "text/plain": [
              "0        1\n",
              "1        1\n",
              "2        3\n",
              "3        1\n",
              "4        1\n",
              "        ..\n",
              "58971    3\n",
              "58972    2\n",
              "58973    3\n",
              "58974    1\n",
              "58975    1\n",
              "Name: LOSgroupNum, Length: 58976, dtype: int64"
            ]
          },
          "metadata": {
            "tags": []
          },
          "execution_count": 13
        }
      ]
    },
    {
      "cell_type": "code",
      "metadata": {
        "id": "rDXLvSgEKjA6",
        "colab_type": "code",
        "colab": {}
      },
      "source": [
        "#x_train are having independent variables\n",
        "x_train = df.drop('LOSgroupNum',1)"
      ],
      "execution_count": 0,
      "outputs": []
    },
    {
      "cell_type": "code",
      "metadata": {
        "id": "oKEUkRRMLBPU",
        "colab_type": "code",
        "outputId": "fed39da5-b70d-4a32-ef5d-1e79b04a3170",
        "colab": {
          "base_uri": "https://localhost:8080/",
          "height": 34
        }
      },
      "source": [
        "x_train.shape"
      ],
      "execution_count": 15,
      "outputs": [
        {
          "output_type": "execute_result",
          "data": {
            "text/plain": [
              "(58976, 26)"
            ]
          },
          "metadata": {
            "tags": []
          },
          "execution_count": 15
        }
      ]
    },
    {
      "cell_type": "code",
      "metadata": {
        "id": "okOatXXkLDOw",
        "colab_type": "code",
        "colab": {}
      },
      "source": [
        "#Removing the columns from the x_train whose features didn't contribute to the model\n",
        "x_train = x_train.drop(['LOSdays','AdmitDiagnosis','insurance','religion','marital_status','ethnicity','AdmitProcedure','ExpiredHospital'],axis=1)"
      ],
      "execution_count": 0,
      "outputs": []
    },
    {
      "cell_type": "code",
      "metadata": {
        "id": "-RiUnWfePngG",
        "colab_type": "code",
        "outputId": "c7675177-2c7c-4508-97a1-6ac3f7433970",
        "colab": {
          "base_uri": "https://localhost:8080/",
          "height": 34
        }
      },
      "source": [
        "x_train.shape"
      ],
      "execution_count": 17,
      "outputs": [
        {
          "output_type": "execute_result",
          "data": {
            "text/plain": [
              "(58976, 18)"
            ]
          },
          "metadata": {
            "tags": []
          },
          "execution_count": 17
        }
      ]
    },
    {
      "cell_type": "code",
      "metadata": {
        "id": "ncdg0S3CP0UD",
        "colab_type": "code",
        "outputId": "27f94443-db72-489e-c5d9-1eb1dfccc5a3",
        "colab": {
          "base_uri": "https://localhost:8080/",
          "height": 225
        }
      },
      "source": [
        "y_train"
      ],
      "execution_count": 18,
      "outputs": [
        {
          "output_type": "execute_result",
          "data": {
            "text/plain": [
              "0        1\n",
              "1        1\n",
              "2        3\n",
              "3        1\n",
              "4        1\n",
              "        ..\n",
              "58971    3\n",
              "58972    2\n",
              "58973    3\n",
              "58974    1\n",
              "58975    1\n",
              "Name: LOSgroupNum, Length: 58976, dtype: int64"
            ]
          },
          "metadata": {
            "tags": []
          },
          "execution_count": 18
        }
      ]
    },
    {
      "cell_type": "code",
      "metadata": {
        "id": "ascqdgcm5kkM",
        "colab_type": "code",
        "colab": {}
      },
      "source": [
        "%matplotlib inline\n",
        "import matplotlib.pyplot as plt\n",
        "plt.style.use('ggplot')"
      ],
      "execution_count": 0,
      "outputs": []
    },
    {
      "cell_type": "code",
      "metadata": {
        "id": "EiNLK77r5vpJ",
        "colab_type": "code",
        "outputId": "aa57a13a-1dbe-4aff-af06-c578ecba2b5f",
        "colab": {
          "base_uri": "https://localhost:8080/",
          "height": 298
        }
      },
      "source": [
        "#visualization of certain features using bar plot\n",
        "df.groupby('gender').size().plot.bar()"
      ],
      "execution_count": 20,
      "outputs": [
        {
          "output_type": "execute_result",
          "data": {
            "text/plain": [
              "<matplotlib.axes._subplots.AxesSubplot at 0x7fb64c17a208>"
            ]
          },
          "metadata": {
            "tags": []
          },
          "execution_count": 20
        },
        {
          "output_type": "display_data",
          "data": {
            "image/png": "[encoded data removed]",
            "text/plain": [
              "<Figure size 432x288 with 1 Axes>"
            ]
          },
          "metadata": {
            "tags": []
          }
        }
      ]
    },
    {
      "cell_type": "code",
      "metadata": {
        "id": "un5zz3UU57AP",
        "colab_type": "code",
        "outputId": "c3635eba-8708-42ff-bdce-68c5648b85f9",
        "colab": {
          "base_uri": "https://localhost:8080/",
          "height": 352
        }
      },
      "source": [
        "df.groupby('admit_type').size().plot.bar()"
      ],
      "execution_count": 21,
      "outputs": [
        {
          "output_type": "execute_result",
          "data": {
            "text/plain": [
              "<matplotlib.axes._subplots.AxesSubplot at 0x7fb64c09cba8>"
            ]
          },
          "metadata": {
            "tags": []
          },
          "execution_count": 21
        },
        {
          "output_type": "display_data",
          "data": {
            "image/png": "[encoded data removed]",
            "text/plain": [
              "<Figure size 432x288 with 1 Axes>"
            ]
          },
          "metadata": {
            "tags": []
          }
        }
      ]
    },
    {
      "cell_type": "code",
      "metadata": {
        "id": "fg_MSfrc6vDm",
        "colab_type": "code",
        "outputId": "f6c57adf-6935-4e25-b842-4f6c03b39b2b",
        "colab": {
          "base_uri": "https://localhost:8080/",
          "height": 448
        }
      },
      "source": [
        "df.groupby('admit_location').size().plot.bar()"
      ],
      "execution_count": 22,
      "outputs": [
        {
          "output_type": "execute_result",
          "data": {
            "text/plain": [
              "<matplotlib.axes._subplots.AxesSubplot at 0x7fb64bbb2e80>"
            ]
          },
          "metadata": {
            "tags": []
          },
          "execution_count": 22
        },
        {
          "output_type": "display_data",
          "data": {
            "image/png": "[encoded data removed]",
            "text/plain": [
              "<Figure size 432x288 with 1 Axes>"
            ]
          },
          "metadata": {
            "tags": []
          }
        }
      ]
    },
    {
      "cell_type": "code",
      "metadata": {
        "id": "rSq-VFo87WSf",
        "colab_type": "code",
        "outputId": "4d3d74f4-4753-4921-d24d-79aea8c55f4f",
        "colab": {
          "base_uri": "https://localhost:8080/",
          "height": 34
        }
      },
      "source": [
        "#checking for mising values in x_train\n",
        "pd.isnull(x_train).values.any()"
      ],
      "execution_count": 23,
      "outputs": [
        {
          "output_type": "execute_result",
          "data": {
            "text/plain": [
              "False"
            ]
          },
          "metadata": {
            "tags": []
          },
          "execution_count": 23
        }
      ]
    },
    {
      "cell_type": "code",
      "metadata": {
        "id": "D8kV8AbK79Pi",
        "colab_type": "code",
        "outputId": "09a7b1fc-31d7-492f-84d8-1d8afe64ebea",
        "colab": {
          "base_uri": "https://localhost:8080/",
          "height": 451
        }
      },
      "source": [
        "x_train.info()"
      ],
      "execution_count": 24,
      "outputs": [
        {
          "output_type": "stream",
          "text": [
            "<class 'pandas.core.frame.DataFrame'>\n",
            "RangeIndex: 58976 entries, 0 to 58975\n",
            "Data columns (total 18 columns):\n",
            " #   Column            Non-Null Count  Dtype  \n",
            "---  ------            --------------  -----  \n",
            " 0   gender            58976 non-null  object \n",
            " 1   age               58976 non-null  int64  \n",
            " 2   admit_type        58976 non-null  object \n",
            " 3   admit_location    58976 non-null  object \n",
            " 4   NumCallouts       58976 non-null  float64\n",
            " 5   NumDiagnosis      58976 non-null  float64\n",
            " 6   NumProcs          58976 non-null  float64\n",
            " 7   NumCPTevents      58976 non-null  float64\n",
            " 8   NumInput          58976 non-null  float64\n",
            " 9   NumLabs           58976 non-null  float64\n",
            " 10  NumMicroLabs      58976 non-null  float64\n",
            " 11  NumNotes          58976 non-null  float64\n",
            " 12  NumOutput         58976 non-null  float64\n",
            " 13  NumRx             58976 non-null  float64\n",
            " 14  NumProcEvents     58976 non-null  float64\n",
            " 15  NumTransfers      58976 non-null  float64\n",
            " 16  NumChartEvents    58976 non-null  float64\n",
            " 17  TotalNumInteract  58976 non-null  float64\n",
            "dtypes: float64(14), int64(1), object(3)\n",
            "memory usage: 8.1+ MB\n"
          ],
          "name": "stdout"
        }
      ]
    },
    {
      "cell_type": "code",
      "metadata": {
        "id": "Io7jSfEc8UWu",
        "colab_type": "code",
        "colab": {}
      },
      "source": [
        "from sklearn import preprocessing"
      ],
      "execution_count": 0,
      "outputs": []
    },
    {
      "cell_type": "code",
      "metadata": {
        "id": "ChSeYBLp__qq",
        "colab_type": "code",
        "colab": {}
      },
      "source": [
        "from sklearn.preprocessing import StandardScaler, LabelEncoder, OneHotEncoder"
      ],
      "execution_count": 0,
      "outputs": []
    },
    {
      "cell_type": "code",
      "metadata": {
        "id": "Nkib757GAMe3",
        "colab_type": "code",
        "colab": {}
      },
      "source": [
        "#since, we have 3 categorical values in x_train, so to convert these values to numeric we will use one hot encoding\n",
        "categorical_var = ['gender','admit_type','admit_location']\n",
        "for i in categorical_var:\n",
        "  if i in x_train.columns:\n",
        "    dummy = pd.get_dummies(x_train[i])\n",
        "    x_train = x_train.drop(i,axis=1)\n",
        "    x_train = pd.concat([x_train,dummy],axis=1)"
      ],
      "execution_count": 0,
      "outputs": []
    },
    {
      "cell_type": "code",
      "metadata": {
        "id": "uaUGaC_zYkGd",
        "colab_type": "code",
        "outputId": "c026166c-e7f6-4d60-9783-9eb10c877426",
        "colab": {
          "base_uri": "https://localhost:8080/",
          "height": 496
        }
      },
      "source": [
        "#x_train after applying one hot encoding\n",
        "x_train"
      ],
      "execution_count": 28,
      "outputs": [
        {
          "output_type": "execute_result",
          "data": {
            "text/html": [
              "<div>\n",
              "<style scoped>\n",
              "    .dataframe tbody tr th:only-of-type {\n",
              "        vertical-align: middle;\n",
              "    }\n",
              "\n",
              "    .dataframe tbody tr th {\n",
              "        vertical-align: top;\n",
              "    }\n",
              "\n",
              "    .dataframe thead th {\n",
              "        text-align: right;\n",
              "    }\n",
              "</style>\n",
              "<table border=\"1\" class=\"dataframe\">\n",
              "  <thead>\n",
              "    <tr style=\"text-align: right;\">\n",
              "      <th></th>\n",
              "      <th>age</th>\n",
              "      <th>NumCallouts</th>\n",
              "      <th>NumDiagnosis</th>\n",
              "      <th>NumProcs</th>\n",
              "      <th>NumCPTevents</th>\n",
              "      <th>NumInput</th>\n",
              "      <th>NumLabs</th>\n",
              "      <th>NumMicroLabs</th>\n",
              "      <th>NumNotes</th>\n",
              "      <th>NumOutput</th>\n",
              "      <th>NumRx</th>\n",
              "      <th>NumProcEvents</th>\n",
              "      <th>NumTransfers</th>\n",
              "      <th>NumChartEvents</th>\n",
              "      <th>TotalNumInteract</th>\n",
              "      <th>F</th>\n",
              "      <th>M</th>\n",
              "      <th>ELECTIVE</th>\n",
              "      <th>EMERGENCY</th>\n",
              "      <th>NEWBORN</th>\n",
              "      <th>URGENT</th>\n",
              "      <th>** INFO NOT AVAILABLE **</th>\n",
              "      <th>CLINIC REFERRAL/PREMATURE</th>\n",
              "      <th>EMERGENCY ROOM ADMIT</th>\n",
              "      <th>HMO REFERRAL/SICK</th>\n",
              "      <th>PHYS REFERRAL/NORMAL DELI</th>\n",
              "      <th>TRANSFER FROM HOSP/EXTRAM</th>\n",
              "      <th>TRANSFER FROM OTHER HEALT</th>\n",
              "      <th>TRANSFER FROM SKILLED NUR</th>\n",
              "      <th>TRSF WITHIN THIS FACILITY</th>\n",
              "    </tr>\n",
              "  </thead>\n",
              "  <tbody>\n",
              "    <tr>\n",
              "      <th>0</th>\n",
              "      <td>35</td>\n",
              "      <td>0.16</td>\n",
              "      <td>2.59</td>\n",
              "      <td>0.00</td>\n",
              "      <td>1.30</td>\n",
              "      <td>25.12</td>\n",
              "      <td>43.44</td>\n",
              "      <td>0.65</td>\n",
              "      <td>0.05</td>\n",
              "      <td>5.19</td>\n",
              "      <td>14.91</td>\n",
              "      <td>1.13</td>\n",
              "      <td>0.65</td>\n",
              "      <td>398.70</td>\n",
              "      <td>493.89</td>\n",
              "      <td>1</td>\n",
              "      <td>0</td>\n",
              "      <td>0</td>\n",
              "      <td>1</td>\n",
              "      <td>0</td>\n",
              "      <td>0</td>\n",
              "      <td>0</td>\n",
              "      <td>1</td>\n",
              "      <td>0</td>\n",
              "      <td>0</td>\n",
              "      <td>0</td>\n",
              "      <td>0</td>\n",
              "      <td>0</td>\n",
              "      <td>0</td>\n",
              "      <td>0</td>\n",
              "    </tr>\n",
              "    <tr>\n",
              "      <th>1</th>\n",
              "      <td>59</td>\n",
              "      <td>0.25</td>\n",
              "      <td>2.23</td>\n",
              "      <td>0.99</td>\n",
              "      <td>1.98</td>\n",
              "      <td>13.61</td>\n",
              "      <td>55.94</td>\n",
              "      <td>1.24</td>\n",
              "      <td>1.59</td>\n",
              "      <td>5.45</td>\n",
              "      <td>7.18</td>\n",
              "      <td>0.99</td>\n",
              "      <td>1.24</td>\n",
              "      <td>373.02</td>\n",
              "      <td>465.71</td>\n",
              "      <td>0</td>\n",
              "      <td>1</td>\n",
              "      <td>0</td>\n",
              "      <td>1</td>\n",
              "      <td>0</td>\n",
              "      <td>0</td>\n",
              "      <td>0</td>\n",
              "      <td>0</td>\n",
              "      <td>1</td>\n",
              "      <td>0</td>\n",
              "      <td>0</td>\n",
              "      <td>0</td>\n",
              "      <td>0</td>\n",
              "      <td>0</td>\n",
              "      <td>0</td>\n",
              "    </tr>\n",
              "    <tr>\n",
              "      <th>2</th>\n",
              "      <td>48</td>\n",
              "      <td>0.00</td>\n",
              "      <td>0.75</td>\n",
              "      <td>0.17</td>\n",
              "      <td>0.83</td>\n",
              "      <td>11.46</td>\n",
              "      <td>33.39</td>\n",
              "      <td>0.33</td>\n",
              "      <td>0.15</td>\n",
              "      <td>4.15</td>\n",
              "      <td>6.23</td>\n",
              "      <td>0.00</td>\n",
              "      <td>0.33</td>\n",
              "      <td>286.21</td>\n",
              "      <td>344.00</td>\n",
              "      <td>1</td>\n",
              "      <td>0</td>\n",
              "      <td>0</td>\n",
              "      <td>1</td>\n",
              "      <td>0</td>\n",
              "      <td>0</td>\n",
              "      <td>0</td>\n",
              "      <td>0</td>\n",
              "      <td>1</td>\n",
              "      <td>0</td>\n",
              "      <td>0</td>\n",
              "      <td>0</td>\n",
              "      <td>0</td>\n",
              "      <td>0</td>\n",
              "      <td>0</td>\n",
              "    </tr>\n",
              "    <tr>\n",
              "      <th>3</th>\n",
              "      <td>73</td>\n",
              "      <td>0.41</td>\n",
              "      <td>0.69</td>\n",
              "      <td>0.27</td>\n",
              "      <td>0.69</td>\n",
              "      <td>20.30</td>\n",
              "      <td>32.24</td>\n",
              "      <td>0.69</td>\n",
              "      <td>0.17</td>\n",
              "      <td>9.05</td>\n",
              "      <td>11.52</td>\n",
              "      <td>0.00</td>\n",
              "      <td>0.96</td>\n",
              "      <td>526.06</td>\n",
              "      <td>603.05</td>\n",
              "      <td>1</td>\n",
              "      <td>0</td>\n",
              "      <td>0</td>\n",
              "      <td>1</td>\n",
              "      <td>0</td>\n",
              "      <td>0</td>\n",
              "      <td>0</td>\n",
              "      <td>0</td>\n",
              "      <td>1</td>\n",
              "      <td>0</td>\n",
              "      <td>0</td>\n",
              "      <td>0</td>\n",
              "      <td>0</td>\n",
              "      <td>0</td>\n",
              "      <td>0</td>\n",
              "    </tr>\n",
              "    <tr>\n",
              "      <th>4</th>\n",
              "      <td>60</td>\n",
              "      <td>0.00</td>\n",
              "      <td>3.69</td>\n",
              "      <td>0.82</td>\n",
              "      <td>2.25</td>\n",
              "      <td>20.49</td>\n",
              "      <td>50.61</td>\n",
              "      <td>0.61</td>\n",
              "      <td>0.34</td>\n",
              "      <td>16.19</td>\n",
              "      <td>25.00</td>\n",
              "      <td>2.87</td>\n",
              "      <td>2.05</td>\n",
              "      <td>554.92</td>\n",
              "      <td>679.84</td>\n",
              "      <td>0</td>\n",
              "      <td>1</td>\n",
              "      <td>0</td>\n",
              "      <td>1</td>\n",
              "      <td>0</td>\n",
              "      <td>0</td>\n",
              "      <td>0</td>\n",
              "      <td>0</td>\n",
              "      <td>0</td>\n",
              "      <td>0</td>\n",
              "      <td>0</td>\n",
              "      <td>1</td>\n",
              "      <td>0</td>\n",
              "      <td>0</td>\n",
              "      <td>0</td>\n",
              "    </tr>\n",
              "    <tr>\n",
              "      <th>...</th>\n",
              "      <td>...</td>\n",
              "      <td>...</td>\n",
              "      <td>...</td>\n",
              "      <td>...</td>\n",
              "      <td>...</td>\n",
              "      <td>...</td>\n",
              "      <td>...</td>\n",
              "      <td>...</td>\n",
              "      <td>...</td>\n",
              "      <td>...</td>\n",
              "      <td>...</td>\n",
              "      <td>...</td>\n",
              "      <td>...</td>\n",
              "      <td>...</td>\n",
              "      <td>...</td>\n",
              "      <td>...</td>\n",
              "      <td>...</td>\n",
              "      <td>...</td>\n",
              "      <td>...</td>\n",
              "      <td>...</td>\n",
              "      <td>...</td>\n",
              "      <td>...</td>\n",
              "      <td>...</td>\n",
              "      <td>...</td>\n",
              "      <td>...</td>\n",
              "      <td>...</td>\n",
              "      <td>...</td>\n",
              "      <td>...</td>\n",
              "      <td>...</td>\n",
              "      <td>...</td>\n",
              "    </tr>\n",
              "    <tr>\n",
              "      <th>58971</th>\n",
              "      <td>60</td>\n",
              "      <td>0.00</td>\n",
              "      <td>0.37</td>\n",
              "      <td>0.53</td>\n",
              "      <td>0.94</td>\n",
              "      <td>330.92</td>\n",
              "      <td>66.56</td>\n",
              "      <td>0.20</td>\n",
              "      <td>0.13</td>\n",
              "      <td>23.11</td>\n",
              "      <td>8.01</td>\n",
              "      <td>0.00</td>\n",
              "      <td>0.08</td>\n",
              "      <td>1315.46</td>\n",
              "      <td>1746.31</td>\n",
              "      <td>0</td>\n",
              "      <td>1</td>\n",
              "      <td>0</td>\n",
              "      <td>1</td>\n",
              "      <td>0</td>\n",
              "      <td>0</td>\n",
              "      <td>0</td>\n",
              "      <td>0</td>\n",
              "      <td>0</td>\n",
              "      <td>0</td>\n",
              "      <td>0</td>\n",
              "      <td>1</td>\n",
              "      <td>0</td>\n",
              "      <td>0</td>\n",
              "      <td>0</td>\n",
              "    </tr>\n",
              "    <tr>\n",
              "      <th>58972</th>\n",
              "      <td>58</td>\n",
              "      <td>0.00</td>\n",
              "      <td>0.92</td>\n",
              "      <td>0.41</td>\n",
              "      <td>0.62</td>\n",
              "      <td>95.18</td>\n",
              "      <td>53.03</td>\n",
              "      <td>2.26</td>\n",
              "      <td>0.30</td>\n",
              "      <td>7.90</td>\n",
              "      <td>0.00</td>\n",
              "      <td>0.00</td>\n",
              "      <td>0.31</td>\n",
              "      <td>674.05</td>\n",
              "      <td>834.98</td>\n",
              "      <td>1</td>\n",
              "      <td>0</td>\n",
              "      <td>0</td>\n",
              "      <td>1</td>\n",
              "      <td>0</td>\n",
              "      <td>0</td>\n",
              "      <td>0</td>\n",
              "      <td>0</td>\n",
              "      <td>1</td>\n",
              "      <td>0</td>\n",
              "      <td>0</td>\n",
              "      <td>0</td>\n",
              "      <td>0</td>\n",
              "      <td>0</td>\n",
              "      <td>0</td>\n",
              "    </tr>\n",
              "    <tr>\n",
              "      <th>58973</th>\n",
              "      <td>23</td>\n",
              "      <td>0.00</td>\n",
              "      <td>0.60</td>\n",
              "      <td>0.54</td>\n",
              "      <td>0.06</td>\n",
              "      <td>12.66</td>\n",
              "      <td>27.28</td>\n",
              "      <td>0.54</td>\n",
              "      <td>0.10</td>\n",
              "      <td>6.27</td>\n",
              "      <td>5.79</td>\n",
              "      <td>0.00</td>\n",
              "      <td>0.36</td>\n",
              "      <td>207.10</td>\n",
              "      <td>261.30</td>\n",
              "      <td>0</td>\n",
              "      <td>1</td>\n",
              "      <td>0</td>\n",
              "      <td>1</td>\n",
              "      <td>0</td>\n",
              "      <td>0</td>\n",
              "      <td>0</td>\n",
              "      <td>0</td>\n",
              "      <td>0</td>\n",
              "      <td>0</td>\n",
              "      <td>1</td>\n",
              "      <td>0</td>\n",
              "      <td>0</td>\n",
              "      <td>0</td>\n",
              "      <td>0</td>\n",
              "    </tr>\n",
              "    <tr>\n",
              "      <th>58974</th>\n",
              "      <td>69</td>\n",
              "      <td>0.00</td>\n",
              "      <td>2.72</td>\n",
              "      <td>0.51</td>\n",
              "      <td>0.17</td>\n",
              "      <td>25.85</td>\n",
              "      <td>49.83</td>\n",
              "      <td>0.17</td>\n",
              "      <td>0.35</td>\n",
              "      <td>12.24</td>\n",
              "      <td>17.69</td>\n",
              "      <td>0.00</td>\n",
              "      <td>1.02</td>\n",
              "      <td>426.87</td>\n",
              "      <td>537.42</td>\n",
              "      <td>0</td>\n",
              "      <td>1</td>\n",
              "      <td>0</td>\n",
              "      <td>1</td>\n",
              "      <td>0</td>\n",
              "      <td>0</td>\n",
              "      <td>0</td>\n",
              "      <td>0</td>\n",
              "      <td>0</td>\n",
              "      <td>0</td>\n",
              "      <td>0</td>\n",
              "      <td>1</td>\n",
              "      <td>0</td>\n",
              "      <td>0</td>\n",
              "      <td>0</td>\n",
              "    </tr>\n",
              "    <tr>\n",
              "      <th>58975</th>\n",
              "      <td>88</td>\n",
              "      <td>0.00</td>\n",
              "      <td>2.36</td>\n",
              "      <td>0.18</td>\n",
              "      <td>1.27</td>\n",
              "      <td>6.73</td>\n",
              "      <td>39.82</td>\n",
              "      <td>1.64</td>\n",
              "      <td>0.40</td>\n",
              "      <td>4.73</td>\n",
              "      <td>5.82</td>\n",
              "      <td>0.55</td>\n",
              "      <td>0.73</td>\n",
              "      <td>550.36</td>\n",
              "      <td>614.59</td>\n",
              "      <td>0</td>\n",
              "      <td>1</td>\n",
              "      <td>0</td>\n",
              "      <td>1</td>\n",
              "      <td>0</td>\n",
              "      <td>0</td>\n",
              "      <td>0</td>\n",
              "      <td>1</td>\n",
              "      <td>0</td>\n",
              "      <td>0</td>\n",
              "      <td>0</td>\n",
              "      <td>0</td>\n",
              "      <td>0</td>\n",
              "      <td>0</td>\n",
              "      <td>0</td>\n",
              "    </tr>\n",
              "  </tbody>\n",
              "</table>\n",
              "<p>58976 rows × 30 columns</p>\n",
              "</div>"
            ],
            "text/plain": [
              "       age  NumCallouts  ...  TRANSFER FROM SKILLED NUR  TRSF WITHIN THIS FACILITY\n",
              "0       35         0.16  ...                          0                          0\n",
              "1       59         0.25  ...                          0                          0\n",
              "2       48         0.00  ...                          0                          0\n",
              "3       73         0.41  ...                          0                          0\n",
              "4       60         0.00  ...                          0                          0\n",
              "...    ...          ...  ...                        ...                        ...\n",
              "58971   60         0.00  ...                          0                          0\n",
              "58972   58         0.00  ...                          0                          0\n",
              "58973   23         0.00  ...                          0                          0\n",
              "58974   69         0.00  ...                          0                          0\n",
              "58975   88         0.00  ...                          0                          0\n",
              "\n",
              "[58976 rows x 30 columns]"
            ]
          },
          "metadata": {
            "tags": []
          },
          "execution_count": 28
        }
      ]
    },
    {
      "cell_type": "code",
      "metadata": {
        "id": "t_9B-3_mY_h6",
        "colab_type": "code",
        "outputId": "2e451579-d9b6-4d94-d9e2-79eb45f3f25d",
        "colab": {
          "base_uri": "https://localhost:8080/",
          "height": 34
        }
      },
      "source": [
        "df.shape"
      ],
      "execution_count": 29,
      "outputs": [
        {
          "output_type": "execute_result",
          "data": {
            "text/plain": [
              "(58976, 27)"
            ]
          },
          "metadata": {
            "tags": []
          },
          "execution_count": 29
        }
      ]
    },
    {
      "cell_type": "code",
      "metadata": {
        "id": "qRoa6wzhZpSR",
        "colab_type": "code",
        "outputId": "8745d93c-aeef-42a5-919d-6876723023c5",
        "colab": {
          "base_uri": "https://localhost:8080/",
          "height": 34
        }
      },
      "source": [
        "x_train.shape"
      ],
      "execution_count": 30,
      "outputs": [
        {
          "output_type": "execute_result",
          "data": {
            "text/plain": [
              "(58976, 30)"
            ]
          },
          "metadata": {
            "tags": []
          },
          "execution_count": 30
        }
      ]
    },
    {
      "cell_type": "code",
      "metadata": {
        "id": "aFn0XAYgZ0cf",
        "colab_type": "code",
        "outputId": "ddb9e382-076f-4b5e-e4bb-b5f5fdf57ad2",
        "colab": {
          "base_uri": "https://localhost:8080/",
          "height": 52
        }
      },
      "source": [
        "x_not_scaled = x_train.copy()\n",
        "y_not_scaled = y_train.copy()\n",
        "print(x_not_scaled.shape)\n",
        "print(y_not_scaled.shape)"
      ],
      "execution_count": 31,
      "outputs": [
        {
          "output_type": "stream",
          "text": [
            "(58976, 30)\n",
            "(58976,)\n"
          ],
          "name": "stdout"
        }
      ]
    },
    {
      "cell_type": "code",
      "metadata": {
        "id": "Zgl043o2iZ2k",
        "colab_type": "code",
        "colab": {}
      },
      "source": [
        "X_not_scaled = x_not_scaled.values\n",
        "Y_not_scaled = y_not_scaled.values"
      ],
      "execution_count": 0,
      "outputs": []
    },
    {
      "cell_type": "code",
      "metadata": {
        "id": "CUg2WFHUie5l",
        "colab_type": "code",
        "outputId": "e3c18cea-24a1-4eb1-e448-c3797fc97f37",
        "colab": {
          "base_uri": "https://localhost:8080/",
          "height": 139
        }
      },
      "source": [
        "X_not_scaled"
      ],
      "execution_count": 33,
      "outputs": [
        {
          "output_type": "execute_result",
          "data": {
            "text/plain": [
              "array([[35.  ,  0.16,  2.59, ...,  0.  ,  0.  ,  0.  ],\n",
              "       [59.  ,  0.25,  2.23, ...,  0.  ,  0.  ,  0.  ],\n",
              "       [48.  ,  0.  ,  0.75, ...,  0.  ,  0.  ,  0.  ],\n",
              "       ...,\n",
              "       [23.  ,  0.  ,  0.6 , ...,  0.  ,  0.  ,  0.  ],\n",
              "       [69.  ,  0.  ,  2.72, ...,  0.  ,  0.  ,  0.  ],\n",
              "       [88.  ,  0.  ,  2.36, ...,  0.  ,  0.  ,  0.  ]])"
            ]
          },
          "metadata": {
            "tags": []
          },
          "execution_count": 33
        }
      ]
    },
    {
      "cell_type": "code",
      "metadata": {
        "id": "jxWq24LnJNlh",
        "colab_type": "code",
        "outputId": "d9a9aa87-18b8-4b43-b0a6-3789546db1a2",
        "colab": {
          "base_uri": "https://localhost:8080/",
          "height": 34
        }
      },
      "source": [
        "Y_not_scaled"
      ],
      "execution_count": 34,
      "outputs": [
        {
          "output_type": "execute_result",
          "data": {
            "text/plain": [
              "array([1, 1, 3, ..., 3, 1, 1])"
            ]
          },
          "metadata": {
            "tags": []
          },
          "execution_count": 34
        }
      ]
    },
    {
      "cell_type": "code",
      "metadata": {
        "id": "Nzk3E6VKi1OX",
        "colab_type": "code",
        "colab": {}
      },
      "source": [
        "#featue scaling\n",
        "scaler = preprocessing.StandardScaler()"
      ],
      "execution_count": 0,
      "outputs": []
    },
    {
      "cell_type": "code",
      "metadata": {
        "id": "ht-2y1nBi553",
        "colab_type": "code",
        "outputId": "fbe903e7-aea5-4ad9-a671-8d2054a16edc",
        "colab": {
          "base_uri": "https://localhost:8080/",
          "height": 243
        }
      },
      "source": [
        "scaler.fit_transform(X_not_scaled)"
      ],
      "execution_count": 36,
      "outputs": [
        {
          "output_type": "execute_result",
          "data": {
            "text/plain": [
              "array([[-0.69179166,  0.37094948, -0.01039984, ..., -0.03471787,\n",
              "        -0.06819479, -0.00920801],\n",
              "       [ 0.23029581,  0.92162658, -0.05395427, ..., -0.03471787,\n",
              "        -0.06819479, -0.00920801],\n",
              "       [-0.19232761, -0.60803204, -0.23301137, ..., -0.03471787,\n",
              "        -0.06819479, -0.00920801],\n",
              "       ...,\n",
              "       [-1.15283539, -0.60803204, -0.25115905, ..., -0.03471787,\n",
              "        -0.06819479, -0.00920801],\n",
              "       [ 0.61449892, -0.60803204,  0.00532815, ..., -0.03471787,\n",
              "        -0.06819479, -0.00920801],\n",
              "       [ 1.34448483, -0.60803204, -0.03822628, ..., -0.03471787,\n",
              "        -0.06819479, -0.00920801]])"
            ]
          },
          "metadata": {
            "tags": []
          },
          "execution_count": 36
        }
      ]
    },
    {
      "cell_type": "code",
      "metadata": {
        "id": "1P8ix1zgK7pF",
        "colab_type": "code",
        "outputId": "0dc28e50-8f1d-4904-9bd3-b40b5d2f6a65",
        "colab": {
          "base_uri": "https://localhost:8080/",
          "height": 139
        }
      },
      "source": [
        "scaler.fit_transform(Y_not_scaled.reshape(-1,1))"
      ],
      "execution_count": 37,
      "outputs": [
        {
          "output_type": "execute_result",
          "data": {
            "text/plain": [
              "array([[-0.31871126],\n",
              "       [-0.31871126],\n",
              "       [ 1.45068679],\n",
              "       ...,\n",
              "       [ 1.45068679],\n",
              "       [-0.31871126],\n",
              "       [-0.31871126]])"
            ]
          },
          "metadata": {
            "tags": []
          },
          "execution_count": 37
        }
      ]
    },
    {
      "cell_type": "code",
      "metadata": {
        "id": "VnkEsr4EjBmM",
        "colab_type": "code",
        "colab": {}
      },
      "source": [
        "x_scaled = scaler.fit_transform(X_not_scaled)"
      ],
      "execution_count": 0,
      "outputs": []
    },
    {
      "cell_type": "code",
      "metadata": {
        "id": "wE70_oZ8Lq0O",
        "colab_type": "code",
        "colab": {}
      },
      "source": [
        "y_scaled = scaler.fit_transform(Y_not_scaled.reshape(-1,1))"
      ],
      "execution_count": 0,
      "outputs": []
    },
    {
      "cell_type": "code",
      "metadata": {
        "id": "NgzSj3j-sz24",
        "colab_type": "code",
        "colab": {}
      },
      "source": [
        "from sklearn.model_selection import train_test_split"
      ],
      "execution_count": 0,
      "outputs": []
    },
    {
      "cell_type": "code",
      "metadata": {
        "id": "Xbz6KTb5OmK1",
        "colab_type": "code",
        "colab": {}
      },
      "source": [
        "#splitting the dataset into training(80%) and test(20%) dataset\n",
        "X_train, X_test, Y_train, Y_test = train_test_split(X_not_scaled,Y_not_scaled,test_size = 0.2)"
      ],
      "execution_count": 0,
      "outputs": []
    },
    {
      "cell_type": "code",
      "metadata": {
        "id": "2W-l0vnXRgSQ",
        "colab_type": "code",
        "outputId": "b83f1fe7-9dfb-46cc-bf77-1cd118ecf04e",
        "colab": {
          "base_uri": "https://localhost:8080/",
          "height": 34
        }
      },
      "source": [
        "len(X_train)"
      ],
      "execution_count": 42,
      "outputs": [
        {
          "output_type": "execute_result",
          "data": {
            "text/plain": [
              "47180"
            ]
          },
          "metadata": {
            "tags": []
          },
          "execution_count": 42
        }
      ]
    },
    {
      "cell_type": "code",
      "metadata": {
        "id": "a5qqBpEtRj9R",
        "colab_type": "code",
        "outputId": "f5f2fd03-7b81-4176-d7fc-1ba8a0438698",
        "colab": {
          "base_uri": "https://localhost:8080/",
          "height": 34
        }
      },
      "source": [
        "len(X_test)"
      ],
      "execution_count": 43,
      "outputs": [
        {
          "output_type": "execute_result",
          "data": {
            "text/plain": [
              "11796"
            ]
          },
          "metadata": {
            "tags": []
          },
          "execution_count": 43
        }
      ]
    },
    {
      "cell_type": "code",
      "metadata": {
        "id": "FDrqsHowSEps",
        "colab_type": "code",
        "colab": {}
      },
      "source": [
        "#Random Forest Regressor\n",
        "from sklearn.ensemble import RandomForestRegressor"
      ],
      "execution_count": 0,
      "outputs": []
    },
    {
      "cell_type": "code",
      "metadata": {
        "id": "N60d2bvRVtla",
        "colab_type": "code",
        "colab": {}
      },
      "source": [
        "#n_estimators denote no. of random trees\n",
        "model = RandomForestRegressor(n_estimators=100)"
      ],
      "execution_count": 0,
      "outputs": []
    },
    {
      "cell_type": "code",
      "metadata": {
        "id": "ChlCJpm0tRTJ",
        "colab_type": "code",
        "outputId": "e3d15779-75c2-4412-e2a8-00cfa2b970c1",
        "colab": {
          "base_uri": "https://localhost:8080/",
          "height": 139
        }
      },
      "source": [
        "model.fit(X_train,Y_train)"
      ],
      "execution_count": 46,
      "outputs": [
        {
          "output_type": "execute_result",
          "data": {
            "text/plain": [
              "RandomForestRegressor(bootstrap=True, ccp_alpha=0.0, criterion='mse',\n",
              "                      max_depth=None, max_features='auto', max_leaf_nodes=None,\n",
              "                      max_samples=None, min_impurity_decrease=0.0,\n",
              "                      min_impurity_split=None, min_samples_leaf=1,\n",
              "                      min_samples_split=2, min_weight_fraction_leaf=0.0,\n",
              "                      n_estimators=100, n_jobs=None, oob_score=False,\n",
              "                      random_state=None, verbose=0, warm_start=False)"
            ]
          },
          "metadata": {
            "tags": []
          },
          "execution_count": 46
        }
      ]
    },
    {
      "cell_type": "code",
      "metadata": {
        "id": "6qsALcCl88Xj",
        "colab_type": "code",
        "colab": {}
      },
      "source": [
        "y_pred = model.predict(X_test)"
      ],
      "execution_count": 0,
      "outputs": []
    },
    {
      "cell_type": "code",
      "metadata": {
        "id": "6dilhGcR4Mk6",
        "colab_type": "code",
        "outputId": "8faf9854-bf92-4d8b-af72-9ee854ad241f",
        "colab": {
          "base_uri": "https://localhost:8080/",
          "height": 139
        }
      },
      "source": [
        "X_test"
      ],
      "execution_count": 48,
      "outputs": [
        {
          "output_type": "execute_result",
          "data": {
            "text/plain": [
              "array([[58.  ,  0.51,  3.06, ...,  0.  ,  0.  ,  0.  ],\n",
              "       [ 0.  ,  0.  ,  0.84, ...,  0.  ,  0.  ,  0.  ],\n",
              "       [66.  ,  0.  ,  0.66, ...,  0.  ,  0.  ,  0.  ],\n",
              "       ...,\n",
              "       [83.  ,  0.  ,  6.27, ...,  0.  ,  0.  ,  0.  ],\n",
              "       [70.  ,  0.13,  1.94, ...,  0.  ,  0.  ,  0.  ],\n",
              "       [75.  ,  0.  ,  1.47, ...,  0.  ,  0.  ,  0.  ]])"
            ]
          },
          "metadata": {
            "tags": []
          },
          "execution_count": 48
        }
      ]
    },
    {
      "cell_type": "code",
      "metadata": {
        "id": "dHr1t3HXBH1I",
        "colab_type": "code",
        "colab": {}
      },
      "source": [
        "from sklearn import metrics\n",
        "from sklearn.metrics import mean_absolute_error, mean_squared_error, r2_score"
      ],
      "execution_count": 0,
      "outputs": []
    },
    {
      "cell_type": "code",
      "metadata": {
        "id": "9zxhDFZEB2oH",
        "colab_type": "code",
        "outputId": "1c2eb36f-dbd9-44cf-989a-cd1f52c7e4f5",
        "colab": {
          "base_uri": "https://localhost:8080/",
          "height": 34
        }
      },
      "source": [
        "print('Mean Absolute Error:',mean_absolute_error(Y_test,y_pred))"
      ],
      "execution_count": 50,
      "outputs": [
        {
          "output_type": "stream",
          "text": [
            "Mean Absolute Error: 0.14695320447609359\n"
          ],
          "name": "stdout"
        }
      ]
    },
    {
      "cell_type": "code",
      "metadata": {
        "id": "Szg5SVqF4DAB",
        "colab_type": "code",
        "outputId": "0763f2ad-5863-491b-b24b-102935c96fbb",
        "colab": {
          "base_uri": "https://localhost:8080/",
          "height": 34
        }
      },
      "source": [
        "Y_test"
      ],
      "execution_count": 51,
      "outputs": [
        {
          "output_type": "execute_result",
          "data": {
            "text/plain": [
              "array([0, 1, 3, ..., 0, 3, 1])"
            ]
          },
          "metadata": {
            "tags": []
          },
          "execution_count": 51
        }
      ]
    },
    {
      "cell_type": "code",
      "metadata": {
        "id": "3Ej2nDnV4HY2",
        "colab_type": "code",
        "outputId": "30a3dbfc-cc01-475d-bc89-17e32127464e",
        "colab": {
          "base_uri": "https://localhost:8080/",
          "height": 34
        }
      },
      "source": [
        "y_pred"
      ],
      "execution_count": 52,
      "outputs": [
        {
          "output_type": "execute_result",
          "data": {
            "text/plain": [
              "array([0.  , 1.05, 2.99, ..., 0.1 , 2.18, 0.57])"
            ]
          },
          "metadata": {
            "tags": []
          },
          "execution_count": 52
        }
      ]
    },
    {
      "cell_type": "code",
      "metadata": {
        "id": "ZbiXsYxMCTji",
        "colab_type": "code",
        "outputId": "243827cc-8d4a-4c41-f40f-8a2d676ac1b6",
        "colab": {
          "base_uri": "https://localhost:8080/",
          "height": 34
        }
      },
      "source": [
        "print('Mean Squared Error:',mean_squared_error(Y_test,y_pred))"
      ],
      "execution_count": 53,
      "outputs": [
        {
          "output_type": "stream",
          "text": [
            "Mean Squared Error: 0.08321931163106137\n"
          ],
          "name": "stdout"
        }
      ]
    },
    {
      "cell_type": "code",
      "metadata": {
        "id": "AQhX-az8Cs5s",
        "colab_type": "code",
        "outputId": "038f2ad8-7943-400e-b15d-9f9f4835d12d",
        "colab": {
          "base_uri": "https://localhost:8080/",
          "height": 34
        }
      },
      "source": [
        "print('Root Mean Squared Error:',np.sqrt(mean_squared_error(Y_test,y_pred)))"
      ],
      "execution_count": 54,
      "outputs": [
        {
          "output_type": "stream",
          "text": [
            "Root Mean Squared Error: 0.28847757561214593\n"
          ],
          "name": "stdout"
        }
      ]
    },
    {
      "cell_type": "code",
      "metadata": {
        "id": "siUVleuKXxb4",
        "colab_type": "code",
        "outputId": "56b72b50-f539-4140-fdd2-caf818765295",
        "colab": {
          "base_uri": "https://localhost:8080/",
          "height": 34
        }
      },
      "source": [
        "print('r2_score:',r2_score(Y_test,y_pred))"
      ],
      "execution_count": 55,
      "outputs": [
        {
          "output_type": "stream",
          "text": [
            "r2_score: 0.934397222684139\n"
          ],
          "name": "stdout"
        }
      ]
    },
    {
      "cell_type": "code",
      "metadata": {
        "id": "CJ6d1lsHC-ip",
        "colab_type": "code",
        "outputId": "0bec62e3-b732-447c-f064-0542c4b0aa92",
        "colab": {
          "base_uri": "https://localhost:8080/",
          "height": 34
        }
      },
      "source": [
        "model.predict([[35, 0.16, 2.59, 0.00, 1.30, 25.12, 43.44, 0.65, 0.05, 5.19, 14.91, 1.13, 0.65, 398.70, 493.89, 1, 0, 0, 1, 0, 0, 0, 1, 0, 0, 0, 0, 0, 0, 0]])"
      ],
      "execution_count": 56,
      "outputs": [
        {
          "output_type": "execute_result",
          "data": {
            "text/plain": [
              "array([1.])"
            ]
          },
          "metadata": {
            "tags": []
          },
          "execution_count": 56
        }
      ]
    },
    {
      "cell_type": "code",
      "metadata": {
        "id": "f5W2zW4kFKub",
        "colab_type": "code",
        "outputId": "a59fd033-9718-4280-af87-0e51b7a65c16",
        "colab": {
          "base_uri": "https://localhost:8080/",
          "height": 34
        }
      },
      "source": [
        "model.predict([[21, 0.07, 0.97, 1.04, 3.13, 62.38, 43.46, 1.88, 0.21, 18.01, 9.94, 4.10, 0.21, 1337.13, 1482.53, 0, 1, 0, 1, 0, 0, 0, 1, 0, 0, 0, 0, 0, 0, 0]])"
      ],
      "execution_count": 57,
      "outputs": [
        {
          "output_type": "execute_result",
          "data": {
            "text/plain": [
              "array([2.98])"
            ]
          },
          "metadata": {
            "tags": []
          },
          "execution_count": 57
        }
      ]
    },
    {
      "cell_type": "code",
      "metadata": {
        "id": "YiBgGj48GMtz",
        "colab_type": "code",
        "outputId": "ef993df8-e77d-4728-b358-bc71a6faf60a",
        "colab": {
          "base_uri": "https://localhost:8080/",
          "height": 316
        }
      },
      "source": [
        "#trying different numbers of n_estimators\n",
        "estimators = np.arange(10, 200, 10)\n",
        "scores = []\n",
        "for i in estimators:\n",
        "  model.set_params(n_estimators = i)\n",
        "  model.fit(X_train, Y_train)\n",
        "  scores.append(model.score(X_test,Y_test))\n",
        "plt.title(\"Effect of n_estimators\")\n",
        "plt.xlabel(\"n_estimator\")\n",
        "plt.ylabel(\"score\")\n",
        "plt.plot(estimators, scores)"
      ],
      "execution_count": 58,
      "outputs": [
        {
          "output_type": "execute_result",
          "data": {
            "text/plain": [
              "[<matplotlib.lines.Line2D at 0x7fb63d309128>]"
            ]
          },
          "metadata": {
            "tags": []
          },
          "execution_count": 58
        },
        {
          "output_type": "display_data",
          "data": {
            "image/png": "[encoded data removed]",
            "text/plain": [
              "<Figure size 432x288 with 1 Axes>"
            ]
          },
          "metadata": {
            "tags": []
          }
        }
      ]
    },
    {
      "cell_type": "code",
      "metadata": {
        "id": "3DVYSyH_vIwg",
        "colab_type": "code",
        "colab": {}
      },
      "source": [
        "#splitting the dataset into training(70%) and test(30%) dataset\n",
        "X_train, X_test, Y_train, Y_test = train_test_split(x_scaled,Y_not_scaled,test_size = 0.3)"
      ],
      "execution_count": 0,
      "outputs": []
    },
    {
      "cell_type": "code",
      "metadata": {
        "id": "P82K8NRxuWZF",
        "colab_type": "code",
        "colab": {}
      },
      "source": [
        "#Support Vector Regressor\n",
        "from sklearn.svm import SVR"
      ],
      "execution_count": 0,
      "outputs": []
    },
    {
      "cell_type": "code",
      "metadata": {
        "id": "54mM7LpCQi1_",
        "colab_type": "code",
        "outputId": "5a8f52e3-35ae-4851-ad05-030a89248bf5",
        "colab": {
          "base_uri": "https://localhost:8080/",
          "height": 52
        }
      },
      "source": [
        "model = SVR(kernel='rbf')\n",
        "model.fit(X_train,Y_train)"
      ],
      "execution_count": 61,
      "outputs": [
        {
          "output_type": "execute_result",
          "data": {
            "text/plain": [
              "SVR(C=1.0, cache_size=200, coef0=0.0, degree=3, epsilon=0.1, gamma='scale',\n",
              "    kernel='rbf', max_iter=-1, shrinking=True, tol=0.001, verbose=False)"
            ]
          },
          "metadata": {
            "tags": []
          },
          "execution_count": 61
        }
      ]
    },
    {
      "cell_type": "code",
      "metadata": {
        "id": "A3VU8Nrmucwn",
        "colab_type": "code",
        "colab": {}
      },
      "source": [
        "y_pred = model.predict(X_test)"
      ],
      "execution_count": 0,
      "outputs": []
    },
    {
      "cell_type": "code",
      "metadata": {
        "id": "TsDtCFAmwhdo",
        "colab_type": "code",
        "outputId": "f082e3a3-bc25-4f2c-bd1e-5bc02cf1d1fd",
        "colab": {
          "base_uri": "https://localhost:8080/",
          "height": 52
        }
      },
      "source": [
        "y_pred"
      ],
      "execution_count": 63,
      "outputs": [
        {
          "output_type": "execute_result",
          "data": {
            "text/plain": [
              "array([ 2.80169992,  0.29325004, -0.81276203, ...,  1.33354294,\n",
              "        0.78629722,  2.60960073])"
            ]
          },
          "metadata": {
            "tags": []
          },
          "execution_count": 63
        }
      ]
    },
    {
      "cell_type": "code",
      "metadata": {
        "id": "THGGSNQz1_Uy",
        "colab_type": "code",
        "outputId": "8dbd1fb3-307e-41cb-e645-407e2aadde5a",
        "colab": {
          "base_uri": "https://localhost:8080/",
          "height": 86
        }
      },
      "source": [
        "print('Mean Absolute Error:',mean_absolute_error(Y_test,y_pred))\n",
        "print('Mean Squared Error:',mean_squared_error(Y_test,y_pred))\n",
        "print('Root Mean Squared Error:',np.sqrt(mean_squared_error(Y_test,y_pred)))\n",
        "print('r2_score:',r2_score(Y_test,y_pred))"
      ],
      "execution_count": 64,
      "outputs": [
        {
          "output_type": "stream",
          "text": [
            "Mean Absolute Error: 0.43987482797050176\n",
            "Mean Squared Error: 0.3299277416050555\n",
            "Root Mean Squared Error: 0.5743933683505195\n",
            "r2_score: 0.7417203159329842\n"
          ],
          "name": "stdout"
        }
      ]
    },
    {
      "cell_type": "code",
      "metadata": {
        "id": "jQ-XmoV1RzpY",
        "colab_type": "code",
        "outputId": "a762d466-57eb-4f0d-da84-2f1240a6f774",
        "colab": {
          "base_uri": "https://localhost:8080/",
          "height": 316
        }
      },
      "source": [
        "plt.scatter(X_train[:,0], Y_train, color = 'red')\n",
        "plt.plot(X_test, model.predict(X_test), color = 'blue')\n",
        "plt.title('SVR Regression Model')\n",
        "plt.xlabel('x-axis')\n",
        "plt.ylabel('y-axis')\n",
        "plt.show"
      ],
      "execution_count": 65,
      "outputs": [
        {
          "output_type": "execute_result",
          "data": {
            "text/plain": [
              "<function matplotlib.pyplot.show>"
            ]
          },
          "metadata": {
            "tags": []
          },
          "execution_count": 65
        },
        {
          "output_type": "display_data",
          "data": {
            "image/png": "[encoded data removed]",
            "text/plain": [
              "<Figure size 432x288 with 1 Axes>"
            ]
          },
          "metadata": {
            "tags": []
          }
        }
      ]
    },
    {
      "cell_type": "code",
      "metadata": {
        "id": "5oNkNoRXeXVX",
        "colab_type": "code",
        "colab": {}
      },
      "source": [
        "#Decison Tree Regressor\n",
        "from sklearn.tree import DecisionTreeRegressor"
      ],
      "execution_count": 0,
      "outputs": []
    },
    {
      "cell_type": "code",
      "metadata": {
        "id": "7ulUftGQn0Z3",
        "colab_type": "code",
        "colab": {}
      },
      "source": [
        "model = DecisionTreeRegressor(random_state = 0)"
      ],
      "execution_count": 0,
      "outputs": []
    },
    {
      "cell_type": "code",
      "metadata": {
        "id": "lq9G8fIWorQW",
        "colab_type": "code",
        "outputId": "9d24647a-b708-4fe9-beb6-57537a9096a6",
        "colab": {
          "base_uri": "https://localhost:8080/",
          "height": 121
        }
      },
      "source": [
        "model.fit(X_train,Y_train)"
      ],
      "execution_count": 68,
      "outputs": [
        {
          "output_type": "execute_result",
          "data": {
            "text/plain": [
              "DecisionTreeRegressor(ccp_alpha=0.0, criterion='mse', max_depth=None,\n",
              "                      max_features=None, max_leaf_nodes=None,\n",
              "                      min_impurity_decrease=0.0, min_impurity_split=None,\n",
              "                      min_samples_leaf=1, min_samples_split=2,\n",
              "                      min_weight_fraction_leaf=0.0, presort='deprecated',\n",
              "                      random_state=0, splitter='best')"
            ]
          },
          "metadata": {
            "tags": []
          },
          "execution_count": 68
        }
      ]
    },
    {
      "cell_type": "code",
      "metadata": {
        "id": "O2HVE4ivo4RS",
        "colab_type": "code",
        "colab": {}
      },
      "source": [
        "y_pred = model.predict(X_test)"
      ],
      "execution_count": 0,
      "outputs": []
    },
    {
      "cell_type": "code",
      "metadata": {
        "id": "5N_EYvlDqTI5",
        "colab_type": "code",
        "outputId": "95c94eb3-39a3-4787-dcd9-97fa3a8ceda1",
        "colab": {
          "base_uri": "https://localhost:8080/",
          "height": 34
        }
      },
      "source": [
        "y_pred"
      ],
      "execution_count": 70,
      "outputs": [
        {
          "output_type": "execute_result",
          "data": {
            "text/plain": [
              "array([3., 0., 0., ..., 1., 1., 3.])"
            ]
          },
          "metadata": {
            "tags": []
          },
          "execution_count": 70
        }
      ]
    },
    {
      "cell_type": "code",
      "metadata": {
        "id": "NNetnfiJqWc-",
        "colab_type": "code",
        "outputId": "28b3d91c-3a58-409b-93ee-d48a3c28272b",
        "colab": {
          "base_uri": "https://localhost:8080/",
          "height": 86
        }
      },
      "source": [
        "print('Mean Absolute Error:',mean_absolute_error(Y_test,y_pred))\n",
        "print('Mean Squared Error:',mean_squared_error(Y_test,y_pred))\n",
        "print('Root Mean Squared Error:',np.sqrt(mean_squared_error(Y_test,y_pred)))\n",
        "print('r2_score:',r2_score(Y_test,y_pred))"
      ],
      "execution_count": 71,
      "outputs": [
        {
          "output_type": "stream",
          "text": [
            "Mean Absolute Error: 0.1532244390436896\n",
            "Mean Squared Error: 0.18261459334199967\n",
            "Root Mean Squared Error: 0.42733428758057745\n",
            "r2_score: 0.8570425171131607\n"
          ],
          "name": "stdout"
        }
      ]
    },
    {
      "cell_type": "code",
      "metadata": {
        "id": "RulgXeX1qh4C",
        "colab_type": "code",
        "outputId": "f51226fa-6667-4df3-ce21-7c5bd6415f54",
        "colab": {
          "base_uri": "https://localhost:8080/",
          "height": 299
        }
      },
      "source": [
        "#so, lets run the model against the test data\n",
        "from sklearn.model_selection import cross_val_predict\n",
        "fig, ax = plt.subplots()\n",
        "ax.scatter(Y_test, y_pred, edgecolors = (0,0,0))\n",
        "ax.plot([Y_test.min(), Y_test.max()], [Y_test.min(), Y_test.max()], 'k--', lw = 3)\n",
        "ax.set_xlabel('Actual')\n",
        "ax.set_ylabel('Predicted')\n",
        "ax.set_title('Ground Truth vs Predicted')\n",
        "plt.show()"
      ],
      "execution_count": 72,
      "outputs": [
        {
          "output_type": "display_data",
          "data": {
            "image/png": "[encoded data removed]",
            "text/plain": [
              "<Figure size 432x288 with 1 Axes>"
            ]
          },
          "metadata": {
            "tags": []
          }
        }
      ]
    },
    {
      "cell_type": "code",
      "metadata": {
        "id": "Am6xvY_K3BKm",
        "colab_type": "code",
        "colab": {}
      },
      "source": [
        "MLA = []\n",
        "MLA.append(RandomForestRegressor())\n",
        "MLA.append(SVR())\n",
        "MLA.append(DecisionTreeRegressor())"
      ],
      "execution_count": 0,
      "outputs": []
    },
    {
      "cell_type": "code",
      "metadata": {
        "id": "HyeA9Iu0tODc",
        "colab_type": "code",
        "colab": {
          "base_uri": "https://localhost:8080/",
          "height": 143
        },
        "outputId": "129a579f-e6e5-44cb-c214-4e7a370f0442"
      },
      "source": [
        "MLA_columns = []\n",
        "MLA_compare = pd.DataFrame(columns = MLA_columns)\n",
        "\n",
        "row_index = 0\n",
        "for alg in MLA:\n",
        "  y_pred = alg.fit(X_train, Y_train).predict(X_test)\n",
        "  MLA_name = alg.__class__.__name__\n",
        "  MLA_compare.loc[row_index,'MLA Name'] = MLA_name\n",
        "  MLA_compare.loc[row_index, 'Mean Absolute Error'] = mean_absolute_error(Y_test,y_pred)\n",
        "  MLA_compare.loc[row_index, 'Mean Squared Error'] = mean_squared_error(Y_test,y_pred)\n",
        "  MLA_compare.loc[row_index, 'Root Mean Squared Error'] = np.sqrt(mean_squared_error(Y_test,y_pred))\n",
        "  MLA_compare.loc[row_index, 'r2_score'] = r2_score(Y_test,y_pred)\n",
        "\n",
        "  row_index+=1\n",
        "MLA_compare.sort_values(by = ['r2_score'], ascending = False, inplace = True)    \n",
        "MLA_compare"
      ],
      "execution_count": 74,
      "outputs": [
        {
          "output_type": "execute_result",
          "data": {
            "text/html": [
              "<div>\n",
              "<style scoped>\n",
              "    .dataframe tbody tr th:only-of-type {\n",
              "        vertical-align: middle;\n",
              "    }\n",
              "\n",
              "    .dataframe tbody tr th {\n",
              "        vertical-align: top;\n",
              "    }\n",
              "\n",
              "    .dataframe thead th {\n",
              "        text-align: right;\n",
              "    }\n",
              "</style>\n",
              "<table border=\"1\" class=\"dataframe\">\n",
              "  <thead>\n",
              "    <tr style=\"text-align: right;\">\n",
              "      <th></th>\n",
              "      <th>MLA Name</th>\n",
              "      <th>Mean Absolute Error</th>\n",
              "      <th>Mean Squared Error</th>\n",
              "      <th>Root Mean Squared Error</th>\n",
              "      <th>r2_score</th>\n",
              "    </tr>\n",
              "  </thead>\n",
              "  <tbody>\n",
              "    <tr>\n",
              "      <th>0</th>\n",
              "      <td>RandomForestRegressor</td>\n",
              "      <td>0.149810</td>\n",
              "      <td>0.084292</td>\n",
              "      <td>0.290331</td>\n",
              "      <td>0.934013</td>\n",
              "    </tr>\n",
              "    <tr>\n",
              "      <th>2</th>\n",
              "      <td>DecisionTreeRegressor</td>\n",
              "      <td>0.154298</td>\n",
              "      <td>0.183010</td>\n",
              "      <td>0.427797</td>\n",
              "      <td>0.856733</td>\n",
              "    </tr>\n",
              "    <tr>\n",
              "      <th>1</th>\n",
              "      <td>SVR</td>\n",
              "      <td>0.439875</td>\n",
              "      <td>0.329928</td>\n",
              "      <td>0.574393</td>\n",
              "      <td>0.741720</td>\n",
              "    </tr>\n",
              "  </tbody>\n",
              "</table>\n",
              "</div>"
            ],
            "text/plain": [
              "                MLA Name  ...  r2_score\n",
              "0  RandomForestRegressor  ...  0.934013\n",
              "2  DecisionTreeRegressor  ...  0.856733\n",
              "1                    SVR  ...  0.741720\n",
              "\n",
              "[3 rows x 5 columns]"
            ]
          },
          "metadata": {
            "tags": []
          },
          "execution_count": 74
        }
      ]
    },
    {
      "cell_type": "code",
      "metadata": {
        "id": "SFh3DkPX2MRY",
        "colab_type": "code",
        "colab": {
          "base_uri": "https://localhost:8080/",
          "height": 500
        },
        "outputId": "814cc406-48cf-4001-d4f8-a6475c65019f"
      },
      "source": [
        "import seaborn as sns\n",
        "plt.subplots(figsize=(8,5))\n",
        "sns.barplot(x = \"MLA Name\", y = \"Mean Absolute Error\", data = MLA_compare, palette = 'hot', edgecolor = sns.color_palette('dark',7))\n",
        "plt.xticks(rotation = 90)\n",
        "plt.title('Mean Absolute Error Comparison')\n",
        "plt.show()"
      ],
      "execution_count": 75,
      "outputs": [
        {
          "output_type": "stream",
          "text": [
            "/usr/local/lib/python3.6/dist-packages/statsmodels/tools/_testing.py:19: FutureWarning: pandas.util.testing is deprecated. Use the functions in the public API at pandas.testing instead.\n",
            "  import pandas.util.testing as tm\n"
          ],
          "name": "stderr"
        },
        {
          "output_type": "display_data",
          "data": {
            "image/png": "[encoded data removed]",
            "text/plain": [
              "<Figure size 576x360 with 1 Axes>"
            ]
          },
          "metadata": {
            "tags": []
          }
        }
      ]
    },
    {
      "cell_type": "code",
      "metadata": {
        "id": "F46uQeNv_rrx",
        "colab_type": "code",
        "colab": {
          "base_uri": "https://localhost:8080/",
          "height": 465
        },
        "outputId": "bb1ac3a0-ed9b-42da-c3cc-8bb7636b711b"
      },
      "source": [
        "import seaborn as sns\n",
        "plt.subplots(figsize=(8,5))\n",
        "sns.barplot(x = \"MLA Name\", y = \"Mean Squared Error\", data = MLA_compare, palette = 'hot', edgecolor = sns.color_palette('dark',7))\n",
        "plt.xticks(rotation = 90)\n",
        "plt.title('Mean Squared Error Comparison')\n",
        "plt.show()"
      ],
      "execution_count": 76,
      "outputs": [
        {
          "output_type": "display_data",
          "data": {
            "image/png": "[encoded data removed]",
            "text/plain": [
              "<Figure size 576x360 with 1 Axes>"
            ]
          },
          "metadata": {
            "tags": []
          }
        }
      ]
    },
    {
      "cell_type": "code",
      "metadata": {
        "id": "laPNMmN8A_4T",
        "colab_type": "code",
        "colab": {
          "base_uri": "https://localhost:8080/",
          "height": 465
        },
        "outputId": "f5bab4e8-1d70-4213-ef43-0015260874f8"
      },
      "source": [
        "import seaborn as sns\n",
        "plt.subplots(figsize=(8,5))\n",
        "sns.barplot(x = \"MLA Name\", y = \"Root Mean Squared Error\", data = MLA_compare, palette = 'hot', edgecolor = sns.color_palette('dark',7))\n",
        "plt.xticks(rotation = 90)\n",
        "plt.title('Root Mean Squared Error Comparison')\n",
        "plt.show()"
      ],
      "execution_count": 77,
      "outputs": [
        {
          "output_type": "display_data",
          "data": {
            "image/png": "[encoded data removed]",
            "text/plain": [
              "<Figure size 576x360 with 1 Axes>"
            ]
          },
          "metadata": {
            "tags": []
          }
        }
      ]
    },
    {
      "cell_type": "code",
      "metadata": {
        "id": "BM20gYPnBhLI",
        "colab_type": "code",
        "colab": {
          "base_uri": "https://localhost:8080/",
          "height": 465
        },
        "outputId": "7399a2b5-0be7-4426-8ea3-d7fc117187fe"
      },
      "source": [
        "import seaborn as sns\n",
        "plt.subplots(figsize=(8,5))\n",
        "sns.barplot(x = \"MLA Name\", y = \"r2_score\", data = MLA_compare, palette = 'hot', edgecolor = sns.color_palette('dark',7))\n",
        "plt.xticks(rotation = 90)\n",
        "plt.title('r2_score Comparison')\n",
        "plt.show()"
      ],
      "execution_count": 78,
      "outputs": [
        {
          "output_type": "display_data",
          "data": {
            "image/png": "[encoded data removed]",
            "text/plain": [
              "<Figure size 576x360 with 1 Axes>"
            ]
          },
          "metadata": {
            "tags": []
          }
        }
      ]
    }
  ]
}